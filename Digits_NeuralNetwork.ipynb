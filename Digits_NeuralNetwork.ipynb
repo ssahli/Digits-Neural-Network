{
 "cells": [
  {
   "cell_type": "markdown",
   "metadata": {},
   "source": [
    "# Playing with MNIST's Digits dataset: Neural Networks"
   ]
  },
  {
   "cell_type": "markdown",
   "metadata": {},
   "source": [
    "#### This notebook is a simple neural network for classifying digit in MNIST's digits dataset. The final predictions were submitted to Kaggle, and had a 0.96671 accuracy. With 10 epochs, the model predictions had an accuracy of 0.96671. With 100 epochs, the model predictions had an accurayc of 0.97386."
   ]
  },
  {
   "cell_type": "code",
   "execution_count": null,
   "metadata": {
    "collapsed": false
   },
   "outputs": [],
   "source": [
    "import numpy as np\n",
    "import pandas as pd\n",
    "from sklearn import preprocessing\n",
    "from keras.models import Sequential\n",
    "from keras.layers.core import Dense, Dropout, Activation\n",
    "from keras.utils import np_utils"
   ]
  },
  {
   "cell_type": "markdown",
   "metadata": {},
   "source": [
    "Since I already know what the data looks like, I'll go ahead and skip the header. The first column is the reponse variable, while the remainder are pixel values corresponding to 28x28 pixel images of handwritten digits."
   ]
  },
  {
   "cell_type": "code",
   "execution_count": null,
   "metadata": {
    "collapsed": false
   },
   "outputs": [],
   "source": [
    "train = np.genfromtxt(\"train.csv\", delimiter=',', skip_header=1)\n",
    "test = np.genfromtxt(\"test.csv\", delimiter=',', skip_header=1)\n",
    "# Pull out the target from the train set\n",
    "target = train[:,0]\n",
    "train = train[:,1:]\n",
    "# One hot encode the target\n",
    "target = np_utils.to_categorical(target)"
   ]
  },
  {
   "cell_type": "code",
   "execution_count": null,
   "metadata": {
    "collapsed": false
   },
   "outputs": [],
   "source": [
    "print train.shape\n",
    "print test.shape\n",
    "print target.shape"
   ]
  },
  {
   "cell_type": "markdown",
   "metadata": {},
   "source": [
    "Standardize the data, skipping the response column"
   ]
  },
  {
   "cell_type": "code",
   "execution_count": null,
   "metadata": {
    "collapsed": false
   },
   "outputs": [],
   "source": [
    "scaler = preprocessing.StandardScaler().fit(train)\n",
    "train = scaler.transform(train)\n",
    "test = scaler.transform(test)"
   ]
  },
  {
   "cell_type": "markdown",
   "metadata": {},
   "source": [
    "Keras is a great library for building a neural network classifier. The code below is adding layers to the classifier, where Dense is a standard fully connected layer, Activation specifies the activation of that layer, and Dropout will randomly set a fraction of the neurons to zero to prevent overfitting. This model uses only one hidden layer and an output layer.\n",
    "\n",
    "Choosing the right activations and optimization method was mostly trial and error. Luckily at 10 epochs this runs fairly quickly, and it was interesting to see how the accuracy on the training set changed between models (for example, one model had accuracies as low as 8% after the 10th epoch, whereas this current one reaches nearly 99%)."
   ]
  },
  {
   "cell_type": "code",
   "execution_count": null,
   "metadata": {
    "collapsed": false
   },
   "outputs": [],
   "source": [
    "model = Sequential()\n",
    "# 784 is a lot of inputs. Bring it down to 256\n",
    "model.add(Dense(256, input_dim=train.shape[1]))\n",
    "# Use rectifier activation\n",
    "model.add(Activation('relu'))\n",
    "# Drop 10% of neurons to prevent overfitting\n",
    "model.add(Dropout(0.1))\n",
    "# Output layer with softmax activation\n",
    "model.add(Dense(target.shape[1]))\n",
    "model.add(Activation('softmax'))\n",
    "# Combine the layers, setting the loss function as mean squared error and use RMSprop\n",
    "model.compile(loss='mse', optimizer='rmsprop')"
   ]
  },
  {
   "cell_type": "markdown",
   "metadata": {},
   "source": [
    "Fit the model. Settings here include the number of examples per batch, number of epochs, how many splits for cross validation, and what kind of output to print."
   ]
  },
  {
   "cell_type": "code",
   "execution_count": null,
   "metadata": {
    "collapsed": false
   },
   "outputs": [],
   "source": [
    "model.fit(train, target, batch_size=32, nb_epoch=10, validation_split=0.1, show_accuracy=True, verbose=1)"
   ]
  },
  {
   "cell_type": "markdown",
   "metadata": {},
   "source": [
    "Test the model on the test data"
   ]
  },
  {
   "cell_type": "code",
   "execution_count": null,
   "metadata": {
    "collapsed": false
   },
   "outputs": [],
   "source": [
    "predictions = model.predict_classes(test)"
   ]
  },
  {
   "cell_type": "markdown",
   "metadata": {},
   "source": [
    "Write to file for submission"
   ]
  },
  {
   "cell_type": "code",
   "execution_count": null,
   "metadata": {
    "collapsed": false
   },
   "outputs": [],
   "source": [
    "index = np.arange(1,len(predictions)+1)\n",
    "pd.DataFrame({\"ImageId\": index, \"Label\": predictions}).to_csv(\"NN_submission2.csv\", index=False, header=True)"
   ]
  }
 ],
 "metadata": {
  "celltoolbar": "Raw Cell Format",
  "kernelspec": {
   "display_name": "Python 2",
   "language": "python",
   "name": "python2"
  },
  "language_info": {
   "codemirror_mode": {
    "name": "ipython",
    "version": 2
   },
   "file_extension": ".py",
   "mimetype": "text/x-python",
   "name": "python",
   "nbconvert_exporter": "python",
   "pygments_lexer": "ipython2",
   "version": "2.7.6"
  }
 },
 "nbformat": 4,
 "nbformat_minor": 0
}
